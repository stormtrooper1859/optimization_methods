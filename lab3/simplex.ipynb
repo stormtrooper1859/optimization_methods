{
 "cells": [
  {
   "cell_type": "code",
   "execution_count": 228,
   "metadata": {},
   "outputs": [],
   "source": [
    "import sympy as sy\n",
    "import numpy as np\n",
    "import math\n",
    "\n",
    "from enum import Enum\n",
    "from typing import List\n"
   ]
  },
  {
   "cell_type": "code",
   "execution_count": 229,
   "metadata": {
    "pycharm": {
     "name": "#%%\n"
    }
   },
   "outputs": [],
   "source": [
    "class Signs(Enum):\n",
    "    LESS = 1\n",
    "    EQUAL = 2\n",
    "    GREAT = 3\n",
    "\n",
    "\n",
    "class TaskType(Enum):\n",
    "    MIN = 1\n",
    "    MAX = 2\n",
    "\n",
    "\n",
    "class Inequality:\n",
    "    def __init__(self, coeff: List[int], sign: Signs, free: int):\n",
    "        self.coeff = coeff\n",
    "        self.sign = sign\n",
    "        self.free = free\n",
    "\n",
    "\n",
    "class Task:\n",
    "    def __init__(self, main_coeff: List[int], task_type: TaskType, inequals: List[Inequality]):\n",
    "        self.main_coeff = main_coeff\n",
    "        self.task_type = task_type\n",
    "        self.inequals = inequals\n"
   ]
  },
  {
   "cell_type": "code",
   "execution_count": 230,
   "outputs": [],
   "source": [
    "def check(actual, expected):\n",
    "    if isinstance(actual, list):\n",
    "        ok = True\n",
    "        for i in range(len(actual)):\n",
    "            if actual[i] != expected[i]:\n",
    "                ok = False\n",
    "        if not ok:\n",
    "            print('points are different')\n",
    "    else:\n",
    "        if actual != expected:\n",
    "            print(f'not equal. expected: {expected}, got: {actual}')\n"
   ],
   "metadata": {
    "collapsed": false,
    "pycharm": {
     "name": "#%%\n"
    }
   }
  },
  {
   "cell_type": "code",
   "execution_count": 233,
   "outputs": [],
   "source": [
    "def to_rational_array(a):\n",
    "    sa = a.shape\n",
    "    return np.array([sy.Rational(x) for x in a.reshape(-1)]).reshape(sa)\n"
   ],
   "metadata": {
    "collapsed": false,
    "pycharm": {
     "name": "#%%\n"
    }
   }
  },
  {
   "cell_type": "code",
   "execution_count": 234,
   "outputs": [],
   "source": [
    "def simplex1(matrix_a, column_b, functional, initial_basis):\n",
    "    functional = np.append(functional, 0)\n",
    "\n",
    "    matrix_a = to_rational_array(matrix_a)\n",
    "    column_b = to_rational_array(column_b)\n",
    "    functional = to_rational_array(functional)\n",
    "\n",
    "    data = np.c_[matrix_a, column_b * -1]\n",
    "\n",
    "    n = matrix_a.shape[1]\n",
    "    m = matrix_a.shape[0]\n",
    "\n",
    "    print(data)\n",
    "    print(functional)\n",
    "    print(data.shape)\n",
    "\n",
    "    # TODO rewrite gauss\n",
    "    # TODO преобразование initial_basis\n",
    "\n",
    "    initial_basis2 = [0] * n\n",
    "    for t in initial_basis:\n",
    "        initial_basis2[t] = 1\n",
    "    initial_basis = initial_basis2\n",
    "\n",
    "    # to ones on basis\n",
    "    m_to_basis = [-1] * m\n",
    "    cnt = 0\n",
    "    for ind in range(n):\n",
    "        if initial_basis[ind] == 1:\n",
    "            if data[cnt][ind] == 0:\n",
    "                for i in range(cnt + 1, m):\n",
    "                    if data[i][ind] != 0:\n",
    "                        data[cnt] += data[i]\n",
    "            data[cnt] /= data[cnt][ind]\n",
    "\n",
    "            for i in range(m):\n",
    "                if i == cnt:\n",
    "                    continue\n",
    "                data[i] -= data[cnt] * data[i][ind]\n",
    "            m_to_basis[cnt] = ind\n",
    "            cnt += 1\n",
    "\n",
    "    for i in range(m):\n",
    "        j = m_to_basis[i]\n",
    "        functional -= data[i] * (functional[j] / data[i][j])\n",
    "\n",
    "    print(\"after gauss\")\n",
    "    print(data)\n",
    "    print(functional)\n",
    "    print(\"----------\")\n",
    "\n",
    "    for cyc in range(100):\n",
    "        ind_in_basis, ind_out_basis = -1, -1\n",
    "        for i in range(n):\n",
    "            if functional[i] > 0:\n",
    "                ind_in_basis = i\n",
    "        if ind_in_basis == -1:\n",
    "            print('complete')\n",
    "            break\n",
    "        prev_rez = -math.inf\n",
    "        for j in range(m):\n",
    "            if data[j][ind_in_basis] != 0:\n",
    "                delta = data[j][-1] / data[j][ind_in_basis]\n",
    "                if 0 >= delta > prev_rez:\n",
    "                    ind_out_basis = j\n",
    "                    prev_rez = delta\n",
    "        if ind_out_basis == -1:\n",
    "            print('unlimited')\n",
    "            break\n",
    "\n",
    "        m_to_basis[ind_out_basis] = ind_in_basis\n",
    "\n",
    "        data[ind_out_basis] /= data[ind_out_basis][ind_in_basis]\n",
    "        for i in range(m):\n",
    "            if i != ind_out_basis:\n",
    "                data[i] -= data[ind_out_basis] * data[i][ind_in_basis]\n",
    "\n",
    "        functional -= data[ind_out_basis] * functional[ind_in_basis]\n",
    "\n",
    "        print(cyc)\n",
    "        print(ind_in_basis, ind_out_basis)\n",
    "        print(data)\n",
    "        print(functional)\n",
    "        print(\"----------\")\n",
    "\n",
    "    pnt = [0] * n\n",
    "    for i in range(m):\n",
    "        pnt[m_to_basis[i]] = -data[i][-1]\n",
    "\n",
    "    for i in range(n):\n",
    "        if abs(pnt[i]) < 1e-10:\n",
    "            pnt[i] = 0\n",
    "\n",
    "    return functional[-1], pnt"
   ],
   "metadata": {
    "collapsed": false,
    "pycharm": {
     "name": "#%%\n"
    }
   }
  },
  {
   "cell_type": "code",
   "execution_count": 235,
   "outputs": [],
   "source": [
    "def solve(task: Task, initial_basis: List[int] = None):\n",
    "    # transform data from dsl to np.array\n",
    "    matrix_a = np.array(\n",
    "        [inequality.coeff for inequality in task.inequals],\n",
    "        dtype=np.float64\n",
    "    )\n",
    "    column_b = np.array(\n",
    "        [inequality.free for inequality in task.inequals],\n",
    "        dtype=np.float64\n",
    "    )\n",
    "    main_functional = np.array(task.main_coeff, dtype=np.float64)\n",
    "    if task.task_type == TaskType.MIN:\n",
    "        main_functional *= -1\n",
    "\n",
    "    m = matrix_a.shape[0]\n",
    "    n = matrix_a.shape[1]\n",
    "\n",
    "    for i in range(m):\n",
    "        inequality = task.inequals[i]\n",
    "        if inequality.sign == Signs.GREAT:\n",
    "            matrix_a[i] *= -1\n",
    "            column_b[i] *= -1\n",
    "            # TODO check: sign changed from > to <\n",
    "        if inequality.sign != Signs.EQUAL:\n",
    "            addition_column = np.zeros(m)\n",
    "            addition_column[i] = 1\n",
    "            matrix_a = np.c_[\n",
    "                matrix_a,\n",
    "                addition_column\n",
    "            ]\n",
    "            main_functional = np.append(main_functional, 0)\n",
    "\n",
    "    n2 = matrix_a.shape[1]\n",
    "\n",
    "    # выполняем метод искуственного базиса, если начальный базис не передан явно\n",
    "    if initial_basis is None:\n",
    "        matrix_y = np.eye(m)\n",
    "        for i in range(m):\n",
    "            if column_b[i] < 0:\n",
    "                matrix_y[i][i] = -1\n",
    "        a_matrix_ay = np.c_[matrix_a, matrix_y]\n",
    "        a_functional = np.array([0] * n2 + [-1] * m)\n",
    "        a_in_func = a_functional * -1\n",
    "        opt_value, point = simplex1(a_matrix_ay, column_b, a_functional, a_in_func)\n",
    "\n",
    "        print(\">\", opt_value, point)\n",
    "        if abs(opt_value) != 0:\n",
    "            print(\"not feasible\")\n",
    "            return 0, []\n",
    "\n",
    "        # выбирается ровно m базисных переменных\n",
    "        # сначала в которых значение не 0, затем добираются нулевые\n",
    "        initial_basis = [\n",
    "                            ind for _val, ind in\n",
    "                            filter(\n",
    "                                lambda val: val[0] == 0,\n",
    "                                zip(point[:-m], range(n2))\n",
    "                            )\n",
    "                        ][:(n2 - m)]\n",
    "        initial_basis = list(set(range(n2)) - set(initial_basis))\n",
    "        print('ib: ', initial_basis)\n",
    "\n",
    "    opt_value, opt_point = simplex1(matrix_a, column_b, main_functional, initial_basis)\n",
    "\n",
    "    opt_value *= 1 if task.task_type == TaskType.MAX else -1\n",
    "    opt_point = opt_point[:n]\n",
    "\n",
    "    print(\"optimal value\", opt_value)\n",
    "    print(\"in point:\", opt_point)\n",
    "\n",
    "    return opt_value, opt_point\n"
   ],
   "metadata": {
    "collapsed": false,
    "pycharm": {
     "name": "#%%\n"
    }
   }
  },
  {
   "cell_type": "code",
   "execution_count": 236,
   "outputs": [
    {
     "name": "stdout",
     "output_type": "stream",
     "text": [
      "[[3 1 -1 1 -4]\n",
      " [5 1 1 -1 -4]]\n",
      "[6 1 4 -5 0]\n",
      "(2, 5)\n",
      "after gauss\n",
      "[[1 1/4 0 0 -1]\n",
      " [0 1/4 -1 1 -1]]\n",
      "[0 3/4 -1 0 1]\n",
      "----------\n",
      "0\n",
      "1 0\n",
      "[[4 1 0 0 -4]\n",
      " [-1 0 -1 1 0]]\n",
      "[-3 0 -1 0 4]\n",
      "----------\n",
      "complete\n",
      "optimal value -4\n",
      "in point: [0, 4, 0, 0]\n"
     ]
    }
   ],
   "source": [
    "task_1 = Task(\n",
    "    [-6, -1, -4, 5], TaskType.MIN,\n",
    "    [\n",
    "        Inequality([3, 1, -1, 1], Signs.EQUAL, 4),\n",
    "        Inequality([5, 1, 1, -1], Signs.EQUAL, 4)\n",
    "    ]\n",
    ")\n",
    "\n",
    "result_1_value, result_1_point = solve(\n",
    "    task_1,\n",
    "    [0, 3]\n",
    ")\n",
    "\n",
    "check(result_1_value, -4)\n",
    "check(result_1_point, [0, 4, 0, 0])"
   ],
   "metadata": {
    "collapsed": false,
    "pycharm": {
     "name": "#%%\n"
    }
   }
  },
  {
   "cell_type": "code",
   "execution_count": 237,
   "metadata": {
    "pycharm": {
     "name": "#%%\n"
    }
   },
   "outputs": [
    {
     "name": "stdout",
     "output_type": "stream",
     "text": [
      "[[3 1 -1 1 1 0 -4]\n",
      " [5 1 1 -1 0 1 -4]]\n",
      "[0 0 0 0 -1 -1 0]\n",
      "(2, 7)\n",
      "after gauss\n",
      "[[1 0 1 -1 -1/2 1/2 0]\n",
      " [0 1 -4 4 5/2 -3/2 -4]]\n",
      "[0 0 0 0 -1 -1 0]\n",
      "----------\n",
      "complete\n",
      "> 0 [0, 4, 0, 0, 0, 0]\n",
      "ib:  [1, 3]\n",
      "[[3 1 -1 1 -4]\n",
      " [5 1 1 -1 -4]]\n",
      "[6 1 4 -5 0]\n",
      "(2, 5)\n",
      "after gauss\n",
      "[[4 1 0 0 -4]\n",
      " [-1 0 -1 1 0]]\n",
      "[-3 0 -1 0 4]\n",
      "----------\n",
      "complete\n",
      "optimal value -4\n",
      "in point: [0, 4, 0, 0]\n"
     ]
    }
   ],
   "source": [
    "result_1_2_value, result_1_2_point = solve(task_1)\n",
    "\n",
    "check(result_1_2_value, -4)\n",
    "check(result_1_2_point, [0, 4, 0, 0])\n"
   ]
  },
  {
   "cell_type": "code",
   "execution_count": 238,
   "outputs": [
    {
     "name": "stdout",
     "output_type": "stream",
     "text": [
      "[[1 -3 -1 -2 -1 0 4]\n",
      " [1 -1 1 0 0 1 0]]\n",
      "[0 0 0 0 -1 -1 0]\n",
      "(2, 7)\n",
      "after gauss\n",
      "[[1 0 2 1 1/2 3/2 -2]\n",
      " [0 1 1 1 1/2 1/2 -2]]\n",
      "[0 0 0 0 -1 -1 0]\n",
      "----------\n",
      "complete\n",
      "> 0 [2, 2, 0, 0, 0, 0]\n",
      "ib:  [0, 1]\n",
      "[[1 -3 -1 -2 4]\n",
      " [1 -1 1 0 0]]\n",
      "[1 2 3 -1 0]\n",
      "(2, 5)\n",
      "after gauss\n",
      "[[1 0 2 1 -2]\n",
      " [0 1 1 1 -2]]\n",
      "[0 0 -1 -4 6]\n",
      "----------\n",
      "complete\n",
      "optimal value -6\n",
      "in point: [2, 2, 0, 0]\n"
     ]
    }
   ],
   "source": [
    "#TODO дробные числа\n",
    "\n",
    "task_2 = Task(\n",
    "    [-1, -2, -3, 1], TaskType.MIN,\n",
    "    [\n",
    "        Inequality([1, -3, -1, -2], Signs.EQUAL, -4),\n",
    "        Inequality([1, -1, 1, 0], Signs.EQUAL, 0)\n",
    "    ]\n",
    ")\n",
    "\n",
    "result_2_value, result_2_point = solve(\n",
    "    task_2,\n",
    "    [1, 2]\n",
    ")\n",
    "\n",
    "check(result_2_value, -6)\n",
    "check(result_2_point, [2, 2, 0, 0])\n"
   ],
   "metadata": {
    "collapsed": false,
    "pycharm": {
     "name": "#%%\n"
    }
   }
  },
  {
   "cell_type": "code",
   "execution_count": 239,
   "outputs": [
    {
     "name": "stdout",
     "output_type": "stream",
     "text": [
      "[[1 -3 -1 -2 -1 0 4]\n",
      " [1 -1 1 0 0 1 0]]\n",
      "[0 0 0 0 -1 -1 0]\n",
      "(2, 7)\n",
      "after gauss\n",
      "[[1 0 2 1 1/2 3/2 -2]\n",
      " [0 1 1 1 1/2 1/2 -2]]\n",
      "[0 0 0 0 -1 -1 0]\n",
      "----------\n",
      "complete\n",
      "> 0 [2, 2, 0, 0, 0, 0]\n",
      "ib:  [0, 1]\n",
      "[[1 -3 -1 -2 4]\n",
      " [1 -1 1 0 0]]\n",
      "[-1 -2 -3 1 0]\n",
      "(2, 5)\n",
      "after gauss\n",
      "[[1 0 2 1 -2]\n",
      " [0 1 1 1 -2]]\n",
      "[0 0 1 4 -6]\n",
      "----------\n",
      "0\n",
      "3 0\n",
      "[[1 0 2 1 -2]\n",
      " [-1 1 -1 0 0]]\n",
      "[-4 0 -7 0 2]\n",
      "----------\n",
      "complete\n",
      "optimal value 2\n",
      "in point: [0, 0, 0, 2]\n"
     ]
    }
   ],
   "source": [
    "task_2_max = Task(\n",
    "    [-1, -2, -3, 1], TaskType.MAX,\n",
    "    [\n",
    "        Inequality([1, -3, -1, -2], Signs.EQUAL, -4),\n",
    "        Inequality([1, -1, 1, 0], Signs.EQUAL, 0)\n",
    "    ]\n",
    ")\n",
    "\n",
    "result_2_max_value, result_2_max_point = solve(task_2_max)\n",
    "\n",
    "check(result_2_max_value, 2)\n",
    "check(result_2_max_point, [0, 0, 0, 2])\n"
   ],
   "metadata": {
    "collapsed": false,
    "pycharm": {
     "name": "#%%\n"
    }
   }
  },
  {
   "cell_type": "code",
   "execution_count": 240,
   "outputs": [
    {
     "name": "stdout",
     "output_type": "stream",
     "text": [
      "[[1 1 0 2 1 1 0 0 -5]\n",
      " [1 1 1 3 2 0 1 0 -9]\n",
      " [0 1 1 2 1 0 0 1 -6]]\n",
      "[0 0 0 0 0 -1 -1 -1 0]\n",
      "(3, 9)\n",
      "after gauss\n",
      "[[1 0 -2 -1 -1 2 -1 -1 5]\n",
      " [0 1 2 3 2 -1 1 1 -10]\n",
      " [0 0 -1 -1 -1 1 -1 0 4]]\n",
      "[0 0 0 0 0 -1 -1 -1 0]\n",
      "----------\n",
      "complete\n",
      "> 0 [-5, 10, 0, 0, 0, 0, 0, -4]\n",
      "ib:  [0, 1, 4]\n",
      "[[1 1 0 2 1 -5]\n",
      " [1 1 1 3 2 -9]\n",
      " [0 1 1 2 1 -6]]\n",
      "[1 2 1 -3 1 0]\n",
      "(3, 6)\n",
      "after gauss\n",
      "[[1 0 -1 0 0 1]\n",
      " [0 1 0 1 0 -2]\n",
      " [0 0 1 1 1 -4]]\n",
      "[0 0 1 -6 0 7]\n",
      "----------\n",
      "0\n",
      "2 0\n",
      "[[-1 0 1 0 0 -1]\n",
      " [0 1 0 1 0 -2]\n",
      " [1 0 0 1 1 -3]]\n",
      "[1 0 0 -6 0 8]\n",
      "----------\n",
      "1\n",
      "0 2\n",
      "[[0 0 1 1 1 -4]\n",
      " [0 1 0 1 0 -2]\n",
      " [1 0 0 1 1 -3]]\n",
      "[0 0 0 -7 -1 11]\n",
      "----------\n",
      "complete\n",
      "optimal value -11\n",
      "in point: [3, 2, 4, 0, 0]\n"
     ]
    }
   ],
   "source": [
    "task_3 = Task(\n",
    "    [-1, -2, -1, 3, -1], TaskType.MIN,\n",
    "    [\n",
    "        Inequality([1, 1, 0, 2, 1], Signs.EQUAL, 5),\n",
    "        Inequality([1, 1, 1, 3, 2], Signs.EQUAL, 9),\n",
    "        Inequality([0, 1, 1, 2, 1], Signs.EQUAL, 6)\n",
    "    ]\n",
    ")\n",
    "\n",
    "result_3_value, result_3_point = solve(task_3)\n",
    "\n",
    "check(result_3_value, -11)\n",
    "check(result_3_point, [3, 2, 4, 0, 0])\n"
   ],
   "metadata": {
    "collapsed": false,
    "pycharm": {
     "name": "#%%\n"
    }
   }
  },
  {
   "cell_type": "code",
   "execution_count": 241,
   "outputs": [
    {
     "name": "stdout",
     "output_type": "stream",
     "text": [
      "[[1 1 2 0 0 1 0 0 -4]\n",
      " [0 -2 -2 1 -1 0 -1 0 6]\n",
      " [1 -1 6 1 1 0 0 1 -12]]\n",
      "[0 0 0 0 0 -1 -1 -1 0]\n",
      "(3, 9)\n",
      "after gauss\n",
      "[[1 0 1 1/2 -1/2 1 -1/2 0 -1]\n",
      " [0 1 1 -1/2 1/2 0 1/2 0 -3]\n",
      " [0 0 6 0 2 -1 1 1 -14]]\n",
      "[0 0 0 0 0 -1 -1 -1 0]\n",
      "----------\n",
      "complete\n",
      "> 0 [1, 3, 0, 0, 0, 0, 0, 14]\n",
      "ib:  [0, 1, 4]\n",
      "[[1 1 2 0 0 -4]\n",
      " [0 -2 -2 1 -1 6]\n",
      " [1 -1 6 1 1 -12]]\n",
      "[1 1 1 -1 1 0]\n",
      "(3, 6)\n",
      "after gauss\n",
      "[[1 0 5/2 1/2 0 -9/2]\n",
      " [0 1 -1/2 -1/2 0 1/2]\n",
      " [0 0 3 0 1 -7]]\n",
      "[0 0 -4 -1 0 11]\n",
      "----------\n",
      "complete\n",
      "optimal value -11\n",
      "in point: [9/2, -1/2, 0, 0, 7]\n",
      "not equal. expected: -10, got: -11\n",
      "points are different\n"
     ]
    }
   ],
   "source": [
    "task4 = Task(\n",
    "    [-1, -1, -1, 1, -1], TaskType.MIN,\n",
    "    [\n",
    "        Inequality([1, 1, 2, 0, 0], Signs.EQUAL, 4),\n",
    "        Inequality([0, -2, -2, 1, -1], Signs.EQUAL, -6),\n",
    "        Inequality([1, -1, 6, 1, 1], Signs.EQUAL, 12)\n",
    "    ]\n",
    ")\n",
    "\n",
    "result_4_value, result_4_point = solve(task4)\n",
    "\n",
    "check(result_4_value, -10)\n",
    "check(result_4_point, [4, 0, 0, 6, 12])\n"
   ],
   "metadata": {
    "collapsed": false,
    "pycharm": {
     "name": "#%%\n"
    }
   }
  },
  {
   "cell_type": "code",
   "execution_count": 242,
   "outputs": [
    {
     "name": "stdout",
     "output_type": "stream",
     "text": [
      "[[1 1 -1 -10 1 0 0]\n",
      " [1 14 10 -10 0 1 -11]]\n",
      "[0 0 0 0 -1 -1 0]\n",
      "(2, 7)\n",
      "after gauss\n",
      "[[1 0 -24/13 -10 14/13 -1/13 11/13]\n",
      " [0 1 11/13 0 -1/13 1/13 -11/13]]\n",
      "[0 0 0 0 -1 -1 0]\n",
      "----------\n",
      "complete\n",
      "> 0 [-11/13, 11/13, 0, 0, 0, 0]\n",
      "ib:  [0, 1]\n",
      "[[1 1 -1 -10 0]\n",
      " [1 14 10 -10 -11]]\n",
      "[1 -4 3 -10 0]\n",
      "(2, 5)\n",
      "after gauss\n",
      "[[1 0 -24/13 -10 11/13]\n",
      " [0 1 11/13 0 -11/13]]\n",
      "[0 0 107/13 0 -55/13]\n",
      "----------\n",
      "0\n",
      "2 0\n",
      "[[-13/24 0 1 65/12 -11/24]\n",
      " [11/24 1 0 -55/12 -11/24]]\n",
      "[107/24 0 0 -535/12 -11/24]\n",
      "----------\n",
      "1\n",
      "0 1\n",
      "[[0 13/11 1 0 -1]\n",
      " [1 24/11 0 -10 -1]]\n",
      "[0 -107/11 0 0 4]\n",
      "----------\n",
      "complete\n",
      "optimal value -4\n",
      "in point: [1, 0, 1, 0]\n"
     ]
    }
   ],
   "source": [
    "#TODO побороть зацикливание\n",
    "\n",
    "task5 = Task(\n",
    "    [-1, 4, -3, 10], TaskType.MIN,\n",
    "    [\n",
    "        Inequality([1, 1, -1, -10], Signs.EQUAL, 0),\n",
    "        Inequality([1, 14, 10, -10], Signs.EQUAL, 11),\n",
    "    ]\n",
    ")\n",
    "\n",
    "result_5_value, result_5_point = solve(task5)\n",
    "\n",
    "check(result_5_value, -4)\n",
    "check(result_5_point, [1, 0, 1, 0])\n"
   ],
   "metadata": {
    "collapsed": false,
    "pycharm": {
     "name": "#%%\n"
    }
   }
  },
  {
   "cell_type": "code",
   "execution_count": 243,
   "outputs": [
    {
     "name": "stdout",
     "output_type": "stream",
     "text": [
      "[[1 3 3 1 1 0 1 0 -3]\n",
      " [0 2 3 -1 0 1 0 1 -4]]\n",
      "[0 0 0 0 0 0 -1 -1 0]\n",
      "(2, 9)\n",
      "after gauss\n",
      "[[1 0 -3/2 5/2 1 -3/2 1 -3/2 3]\n",
      " [0 1 3/2 -1/2 0 1/2 0 1/2 -2]]\n",
      "[0 0 0 0 0 0 -1 -1 0]\n",
      "----------\n",
      "complete\n",
      "> 0 [-3, 2, 0, 0, 0, 0, 0, 0]\n",
      "ib:  [0, 1]\n",
      "[[1 3 3 1 1 0 -3]\n",
      " [0 2 3 -1 0 1 -4]]\n",
      "[1 -5 -1 1 0 0 0]\n",
      "(2, 7)\n",
      "after gauss\n",
      "[[1 0 -3/2 5/2 1 -3/2 3]\n",
      " [0 1 3/2 -1/2 0 1/2 -2]]\n",
      "[0 0 8 -4 -1 4 -13]\n",
      "----------\n",
      "0\n",
      "5 0\n",
      "[[-2/3 0 1 -5/3 -2/3 1 -2]\n",
      " [1/3 1 1 1/3 1/3 0 -1]]\n",
      "[8/3 0 4 8/3 5/3 0 -5]\n",
      "----------\n",
      "1\n",
      "4 1\n",
      "[[0 2 3 -1 0 1 -4]\n",
      " [1 3 3 1 1 0 -3]]\n",
      "[1 -5 -1 1 0 0 0]\n",
      "----------\n",
      "2\n",
      "3 1\n",
      "[[1 5 6 0 1 1 -7]\n",
      " [1 3 3 1 1 0 -3]]\n",
      "[0 -8 -4 0 -1 0 3]\n",
      "----------\n",
      "complete\n",
      "optimal value -3\n",
      "in point: [0, 0, 0, 3]\n",
      "points are different\n"
     ]
    }
   ],
   "source": [
    "task_6 = Task(\n",
    "    [-1, 5, 1, -1], TaskType.MIN,\n",
    "    [\n",
    "        Inequality([1, 3, 3, 1], Signs.LESS, 3),\n",
    "        Inequality([0, 2, 3, -1], Signs.LESS, 4),\n",
    "    ]\n",
    ")\n",
    "\n",
    "result_6_value, result_6_point = solve(task_6)\n",
    "\n",
    "check(result_6_value, -3)\n",
    "check(result_6_point, [3, 0, 0, 0])\n"
   ],
   "metadata": {
    "collapsed": false,
    "pycharm": {
     "name": "#%%\n"
    }
   }
  },
  {
   "cell_type": "code",
   "execution_count": 244,
   "outputs": [
    {
     "name": "stdout",
     "output_type": "stream",
     "text": [
      "[[3 1 1 1 -2 1 0 0 -10]\n",
      " [6 1 2 3 -4 0 1 0 -20]\n",
      " [10 1 3 6 -7 0 0 1 -30]]\n",
      "[0 0 0 0 0 -1 -1 -1 0]\n",
      "(3, 9)\n",
      "after gauss\n",
      "[[1 0 1/3 2/3 -2/3 -1/3 1/3 0 -10/3]\n",
      " [0 1 0 -1 0 2 -1 0 0]\n",
      " [0 0 -1/3 1/3 -1/3 4/3 -7/3 1 10/3]]\n",
      "[0 0 0 0 0 -1 -1 -1 0]\n",
      "----------\n",
      "complete\n",
      "> 0 [10/3, 0, 0, 0, 0, 0, 0, -10/3]\n",
      "ib:  [0, 3, 4]\n",
      "[[3 1 1 1 -2 -10]\n",
      " [6 1 2 3 -4 -20]\n",
      " [10 1 3 6 -7 -30]]\n",
      "[1 1 -1 1 -2 0]\n",
      "(3, 6)\n",
      "after gauss\n",
      "[[1 0 1 0 0 -10]\n",
      " [0 -1 0 1 0 0]\n",
      " [0 -1 1 0 1 -10]]\n",
      "[0 0 0 0 0 -10]\n",
      "----------\n",
      "complete\n",
      "optimal value 10\n",
      "in point: [10, 0, 0, 0, 10]\n",
      "points are different\n"
     ]
    }
   ],
   "source": [
    "task_7 = Task(\n",
    "    [-1, -1, 1, -1, 2], TaskType.MIN,\n",
    "    [\n",
    "        Inequality([3, 1, 1, 1, -2], Signs.EQUAL, 10),\n",
    "        Inequality([6, 1, 2, 3, -4], Signs.EQUAL, 20),\n",
    "        Inequality([10, 1, 3, 6, -7], Signs.EQUAL, 30)\n",
    "    ]\n",
    ")\n",
    "\n",
    "result_7_value, result_7_point = solve(task_7)\n",
    "\n",
    "check(result_7_value, 10)\n",
    "check(result_7_point, [0, 0, 10, 0, 0])\n"
   ],
   "metadata": {
    "collapsed": false,
    "pycharm": {
     "name": "#%%\n"
    }
   }
  }
 ],
 "metadata": {
  "kernelspec": {
   "display_name": "Python 3",
   "language": "python",
   "name": "python3"
  },
  "language_info": {
   "codemirror_mode": {
    "name": "ipython",
    "version": 3
   },
   "file_extension": ".py",
   "mimetype": "text/x-python",
   "name": "python",
   "nbconvert_exporter": "python",
   "pygments_lexer": "ipython3",
   "version": "3.8.5"
  }
 },
 "nbformat": 4,
 "nbformat_minor": 1
}