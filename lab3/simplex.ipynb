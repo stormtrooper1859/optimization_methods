{
 "cells": [
  {
   "cell_type": "code",
   "execution_count": 171,
   "metadata": {},
   "outputs": [],
   "source": [
    "import numpy as np\n",
    "\n",
    "from enum import Enum\n",
    "from typing import List\n"
   ]
  },
  {
   "cell_type": "code",
   "execution_count": 172,
   "metadata": {
    "pycharm": {
     "name": "#%%\n"
    }
   },
   "outputs": [],
   "source": [
    "class Signs(Enum):\n",
    "    LESS = 1\n",
    "    EQUAL = 2\n",
    "    GREAT = 3\n",
    "\n",
    "\n",
    "class TaskType(Enum):\n",
    "    MIN = 1\n",
    "    MAX = 2\n",
    "\n",
    "\n",
    "class Inequality:\n",
    "    def __init__(self, coeff: List[int], sign: Signs, free: int):\n",
    "        self.coeff = coeff\n",
    "        self.sign = sign\n",
    "        self.free = free\n",
    "\n",
    "\n",
    "class Task:\n",
    "    def __init__(self, main_coeff: List[int], task_type: TaskType, inequals: List[Inequality]):\n",
    "        self.main_coeff = main_coeff\n",
    "        self.task_type = task_type\n",
    "        self.inequals = inequals\n"
   ]
  },
  {
   "cell_type": "code",
   "execution_count": 173,
   "outputs": [],
   "source": [
    "def check(actual, expected):\n",
    "    if actual != expected:\n",
    "        print(f'not equal. expected: {expected}, got: {actual}')\n",
    "        # raise RuntimeError(f'not equal. expected: {expected}, got: {actual}')\n"
   ],
   "metadata": {
    "collapsed": false,
    "pycharm": {
     "name": "#%%\n"
    }
   }
  },
  {
   "cell_type": "code",
   "execution_count": 174,
   "outputs": [],
   "source": [
    "def solve(task: Task, initial_solution: List[int], initial_basis: List[int]):\n",
    "    begin_size = len(task.main_coeff)\n",
    "    data_list = []\n",
    "    print(len(task.inequals))\n",
    "    for ineq_index in range(len(task.inequals)):\n",
    "        if task.inequals[ineq_index].sign == Signs.LESS:\n",
    "            task.inequals[ineq_index].coeff.append(1)\n",
    "            task.main_coeff.append(0)\n",
    "            for ineq_index2 in range(len(task.inequals)):\n",
    "                if ineq_index != ineq_index2:\n",
    "                    task.inequals[ineq_index2].coeff.append(0)\n",
    "        elif task.inequals[ineq_index].sign == Signs.GREAT:\n",
    "            task.inequals[ineq_index].coeff.append(-1)\n",
    "            task.main_coeff.append(0)\n",
    "            for ineq_index2 in range(len(task.inequals)):\n",
    "                if ineq_index != ineq_index2:\n",
    "                    task.inequals[ineq_index2].coeff.append(0)\n",
    "\n",
    "    for ineq in task.inequals:\n",
    "        # if ineq.sign != Signs.EQUAL:\n",
    "        #     raise RuntimeError(\"< or > not supported yet\")\n",
    "        data_list.append(ineq.coeff + [-ineq.free])\n",
    "\n",
    "    data = np.array(\n",
    "        data_list,\n",
    "        dtype=np.float64\n",
    "    )\n",
    "\n",
    "    result = np.array(task.main_coeff + [0], dtype=np.float64)\n",
    "\n",
    "    if task.task_type == TaskType.MIN:\n",
    "        result *= -1\n",
    "\n",
    "    print(data.shape)\n",
    "\n",
    "    n = data.shape[1] - 1\n",
    "    m = data.shape[0]\n",
    "\n",
    "    print(data)\n",
    "    print(result)\n",
    "\n",
    "    cnt = 0\n",
    "\n",
    "    for ind in range(n):\n",
    "        if initial_basis[ind] == 1:\n",
    "            data[cnt] /= data[cnt][ind]\n",
    "            for i in range(m):\n",
    "                if i == cnt:\n",
    "                    continue\n",
    "                data[i] -= data[cnt] * data[i][ind]\n",
    "            cnt += 1\n",
    "\n",
    "    cnt = 0\n",
    "    for ind in range(n):\n",
    "        if initial_basis[ind] == 1:\n",
    "            result -= data[cnt] * (result[ind] / data[cnt][ind])\n",
    "            cnt += 1\n",
    "\n",
    "    print(data)\n",
    "    print(result)\n",
    "\n",
    "    for cyc in range(100):\n",
    "        ind_in_basis = -1\n",
    "        for i in range(n):\n",
    "            if result[i] > 0:\n",
    "                ind_in_basis = i\n",
    "                break\n",
    "        if ind_in_basis == -1:\n",
    "            print('complete')\n",
    "            break\n",
    "        ind_out_basis = -1\n",
    "        prev_rez = -1e10\n",
    "        for i in range(m):\n",
    "            if data[i][ind_in_basis] == 0:\n",
    "                continue\n",
    "            tt1 = data[i][-1] / data[i][ind_in_basis]\n",
    "            if 0 >= tt1 > prev_rez:\n",
    "                ind_out_basis = i\n",
    "                prev_rez = tt1\n",
    "        if ind_out_basis == -1:\n",
    "            print('unlimited')\n",
    "            break\n",
    "        # in_basis[ind_out_basis] = 0\n",
    "        # in_basis[ind_in_basis] = 1\n",
    "\n",
    "        data[ind_out_basis] /= data[ind_out_basis][ind_in_basis]\n",
    "        for i in range(m):\n",
    "            if i != ind_out_basis:\n",
    "                data[i] -= data[ind_out_basis] * data[i][ind_in_basis]\n",
    "\n",
    "        result -= data[ind_out_basis] * result[ind_in_basis]\n",
    "\n",
    "        print(cyc)\n",
    "        print(ind_in_basis, ind_out_basis)\n",
    "        print(data)\n",
    "        print(result)\n",
    "\n",
    "    result_mn = 1 if task.task_type == TaskType.MAX else -1\n",
    "    print(\"Result: \", result_mn * result[-1])\n",
    "\n",
    "    return result_mn * result[-1]\n",
    "    # print(\"In point: \")\n"
   ],
   "metadata": {
    "collapsed": false,
    "pycharm": {
     "name": "#%%\n"
    }
   }
  },
  {
   "cell_type": "code",
   "execution_count": 175,
   "metadata": {
    "pycharm": {
     "name": "#%%\n"
    }
   },
   "outputs": [
    {
     "name": "stdout",
     "output_type": "stream",
     "text": [
      "2\n",
      "(2, 5)\n",
      "[[ 3.  1. -1.  1. -4.]\n",
      " [ 5.  1.  1. -1. -4.]]\n",
      "[ 6.  1.  4. -5. -0.]\n",
      "[[ 1.    0.25  0.    0.   -1.  ]\n",
      " [-0.    0.25 -1.    1.   -1.  ]]\n",
      "[ 0.    0.75 -1.    0.    1.  ]\n",
      "0\n",
      "1 0\n",
      "[[ 4.  1.  0.  0. -4.]\n",
      " [-1.  0. -1.  1.  0.]]\n",
      "[-3.  0. -1.  0.  4.]\n",
      "complete\n",
      "Result:  -4.0\n"
     ]
    }
   ],
   "source": [
    "task_1 = Task(\n",
    "    [-6, -1, -4, 5], TaskType.MIN,\n",
    "    [\n",
    "        Inequality([3, 1, -1, 1], Signs.EQUAL, 4),\n",
    "        Inequality([5, 1, 1, -1], Signs.EQUAL, 4)\n",
    "    ]\n",
    ")\n",
    "\n",
    "result_1 = solve(\n",
    "    task_1,\n",
    "    [1, 0, 0, 1],\n",
    "    [1, 0, 0, 1]\n",
    ")\n",
    "\n",
    "check(result_1, -4)\n"
   ]
  },
  {
   "cell_type": "code",
   "execution_count": 176,
   "outputs": [
    {
     "name": "stdout",
     "output_type": "stream",
     "text": [
      "2\n",
      "(2, 5)\n",
      "[[ 1. -3. -1. -2.  4.]\n",
      " [ 1. -1.  1.  0.  0.]]\n",
      "[ 1.  2.  3. -1. -0.]\n",
      "[[-0.5  1.   0.   0.5 -1. ]\n",
      " [ 0.5  0.   1.   0.5 -1. ]]\n",
      "[ 0.5  0.   0.  -3.5  5. ]\n",
      "0\n",
      "0 1\n",
      "[[ 0.  1.  1.  1. -2.]\n",
      " [ 1.  0.  2.  1. -2.]]\n",
      "[ 0.  0. -1. -4.  6.]\n",
      "complete\n",
      "Result:  -5.999999999999999\n",
      "not equal. expected: -6, got: -5.999999999999999\n"
     ]
    }
   ],
   "source": [
    "task_2 = Task(\n",
    "    [-1, -2, -3, 1], TaskType.MIN,\n",
    "    [\n",
    "        Inequality([1, -3, -1, -2], Signs.EQUAL, -4),\n",
    "        Inequality([1, -1, 1, 0], Signs.EQUAL, 0)\n",
    "    ]\n",
    ")\n",
    "\n",
    "result_2 = solve(\n",
    "    task_2,\n",
    "    [0, 1, 1, 0],\n",
    "    [0, 1, 1, 0]\n",
    ")\n",
    "\n",
    "check(result_2, -6)\n"
   ],
   "metadata": {
    "collapsed": false,
    "pycharm": {
     "name": "#%%\n"
    }
   }
  },
  {
   "cell_type": "code",
   "execution_count": 177,
   "outputs": [
    {
     "name": "stdout",
     "output_type": "stream",
     "text": [
      "2\n",
      "(2, 5)\n",
      "[[ 1. -3. -1. -2.  4.]\n",
      " [ 1. -1.  1.  0.  0.]]\n",
      "[-1. -2. -3.  1.  0.]\n",
      "[[-0.5  1.   0.   0.5 -1. ]\n",
      " [ 0.5  0.   1.   0.5 -1. ]]\n",
      "[-0.5  0.   0.   3.5 -5. ]\n",
      "0\n",
      "3 0\n",
      "[[-1.  2.  0.  1. -2.]\n",
      " [ 1. -1.  1.  0.  0.]]\n",
      "[ 3. -7.  0.  0.  2.]\n",
      "1\n",
      "0 1\n",
      "[[ 0.  1.  1.  1. -2.]\n",
      " [ 1. -1.  1.  0.  0.]]\n",
      "[ 0. -4. -3.  0.  2.]\n",
      "complete\n",
      "Result:  2.0\n"
     ]
    }
   ],
   "source": [
    "task_2_max = Task(\n",
    "    [-1, -2, -3, 1], TaskType.MAX,\n",
    "    [\n",
    "        Inequality([1, -3, -1, -2], Signs.EQUAL, -4),\n",
    "        Inequality([1, -1, 1, 0], Signs.EQUAL, 0)\n",
    "    ]\n",
    ")\n",
    "\n",
    "result_2_max = solve(\n",
    "    task_2_max,\n",
    "    [0, 1, 1, 0],\n",
    "    [0, 1, 1, 0]\n",
    ")\n",
    "\n",
    "check(result_2_max, 2)\n"
   ],
   "metadata": {
    "collapsed": false,
    "pycharm": {
     "name": "#%%\n"
    }
   }
  },
  {
   "cell_type": "code",
   "execution_count": 178,
   "outputs": [
    {
     "name": "stdout",
     "output_type": "stream",
     "text": [
      "3\n",
      "(3, 6)\n",
      "[[ 0.  1.  1.  2.  1. -6.]\n",
      " [ 1.  1.  0.  2.  1. -5.]\n",
      " [ 1.  1.  1.  3.  2. -9.]]\n",
      "[ 1.  2.  1. -3.  1. -0.]\n",
      "[[-1.  0.  1.  0.  0. -1.]\n",
      " [ 0.  1.  0.  1.  0. -2.]\n",
      " [ 1. -1.  0.  0.  1. -1.]]\n",
      "[ 1.  6.  0.  0.  0. -4.]\n",
      "0\n",
      "0 2\n",
      "[[ 0. -1.  1.  0.  1. -2.]\n",
      " [ 0.  1.  0.  1.  0. -2.]\n",
      " [ 1. -1.  0.  0.  1. -1.]]\n",
      "[ 0.  7.  0.  0. -1. -3.]\n",
      "1\n",
      "1 1\n",
      "[[ 0.  0.  1.  1.  1. -4.]\n",
      " [ 0.  1.  0.  1.  0. -2.]\n",
      " [ 1.  0.  0.  1.  1. -3.]]\n",
      "[ 0.  0.  0. -7. -1. 11.]\n",
      "complete\n",
      "Result:  -11.0\n"
     ]
    }
   ],
   "source": [
    "# TODO fix gauss\n",
    "\n",
    "task_3 = Task(\n",
    "    [-1, -2, -1, 3, -1], TaskType.MIN,\n",
    "    [\n",
    "        Inequality([0, 1, 1, 2, 1], Signs.EQUAL, 6),\n",
    "        Inequality([1, 1, 0, 2, 1], Signs.EQUAL, 5),\n",
    "        Inequality([1, 1, 1, 3, 2], Signs.EQUAL, 9)\n",
    "    ]\n",
    ")\n",
    "\n",
    "result_3 = solve(\n",
    "    task_3,\n",
    "    [0, 0, 1, 2, 1],\n",
    "    [0, 0, 1, 1, 1]\n",
    ")\n",
    "\n",
    "check(result_3, -11)"
   ],
   "metadata": {
    "collapsed": false,
    "pycharm": {
     "name": "#%%\n"
    }
   }
  },
  {
   "cell_type": "code",
   "execution_count": 179,
   "outputs": [
    {
     "name": "stdout",
     "output_type": "stream",
     "text": [
      "3\n",
      "(3, 6)\n",
      "[[  1.   1.   2.   0.   0.  -4.]\n",
      " [  0.  -2.  -2.   1.  -1.   6.]\n",
      " [  1.  -1.   6.   1.   1. -12.]]\n",
      "[ 1.  1.  1. -1.  1. -0.]\n",
      "[[ 1.          0.          0.          0.5        -0.83333333  1.33333333]\n",
      " [-0.          1.          0.         -0.5         0.16666667 -0.66666667]\n",
      " [ 0.          0.          1.          0.          0.33333333 -2.33333333]]\n",
      "[ 0.          0.          0.         -1.          1.33333333  1.66666667]\n",
      "0\n",
      "4 0\n",
      "[[-1.2 -0.  -0.  -0.6  1.  -1.6]\n",
      " [ 0.2  1.   0.  -0.4  0.  -0.4]\n",
      " [ 0.4  0.   1.   0.2  0.  -1.8]]\n",
      "[ 1.6  0.   0.  -0.2  0.   3.8]\n",
      "1\n",
      "0 1\n",
      "[[ 0.  6.  0. -3.  1. -4.]\n",
      " [ 1.  5.  0. -2.  0. -2.]\n",
      " [ 0. -2.  1.  1.  0. -1.]]\n",
      "[ 0. -8.  0.  3.  0.  7.]\n",
      "2\n",
      "3 2\n",
      "[[ 0.00000000e+00 -1.77635684e-15  3.00000000e+00  0.00000000e+00\n",
      "   1.00000000e+00 -7.00000000e+00]\n",
      " [ 1.00000000e+00  1.00000000e+00  2.00000000e+00  0.00000000e+00\n",
      "   0.00000000e+00 -4.00000000e+00]\n",
      " [ 0.00000000e+00 -2.00000000e+00  1.00000000e+00  1.00000000e+00\n",
      "   0.00000000e+00 -1.00000000e+00]]\n",
      "[ 0. -2. -3.  0.  0. 10.]\n",
      "complete\n",
      "Result:  -10.0\n"
     ]
    }
   ],
   "source": [
    "task4 = Task(\n",
    "    [-1, -1, -1, 1, -1], TaskType.MIN,\n",
    "    [\n",
    "        Inequality([1, 1, 2, 0, 0], Signs.EQUAL, 4),\n",
    "        Inequality([0, -2, -2, 1, -1], Signs.EQUAL, -6),\n",
    "        Inequality([1, -1, 6, 1, 1], Signs.EQUAL, 12)\n",
    "    ]\n",
    ")\n",
    "\n",
    "result_4 = solve(\n",
    "    task4,\n",
    "    [1, 1, 2, 0, 0],\n",
    "    [1, 1, 1, 0, 0],\n",
    ")\n",
    "\n",
    "check(result_4, -10)"
   ],
   "metadata": {
    "collapsed": false,
    "pycharm": {
     "name": "#%%\n"
    }
   }
  },
  {
   "cell_type": "code",
   "execution_count": 180,
   "outputs": [
    {
     "name": "stdout",
     "output_type": "stream",
     "text": [
      "2\n",
      "(2, 5)\n",
      "[[  1.   1.  -1. -10.   0.]\n",
      " [  1.  14.  10. -10. -11.]]\n",
      "[  1.  -4.   3. -10.  -0.]\n",
      "[[ 0.          1.18181818  1.          0.         -1.        ]\n",
      " [-0.1        -0.21818182 -0.          1.          0.1       ]]\n",
      "[ 0.         -9.72727273  0.          0.          4.        ]\n",
      "complete\n",
      "Result:  -4.0\n"
     ]
    }
   ],
   "source": [
    "#TODO\n",
    "\n",
    "task5 = Task(\n",
    "    [-1, 4, -3, 10], TaskType.MIN,\n",
    "    [\n",
    "        Inequality([1, 1, -1, -10], Signs.EQUAL, 0),\n",
    "        Inequality([1, 14, 10, -10], Signs.EQUAL, 11),\n",
    "    ]\n",
    ")\n",
    "\n",
    "result_5 = solve(\n",
    "    task5,\n",
    "    [0, 0, 1, 1],\n",
    "    [0, 0, 1, 1]\n",
    ")\n",
    "\n",
    "check(result_5, -4.0)\n"
   ],
   "metadata": {
    "collapsed": false,
    "pycharm": {
     "name": "#%%\n"
    }
   }
  },
  {
   "cell_type": "code",
   "execution_count": 181,
   "outputs": [
    {
     "name": "stdout",
     "output_type": "stream",
     "text": [
      "2\n",
      "(2, 7)\n",
      "[[ 1.  3.  3.  1.  1.  0. -3.]\n",
      " [ 0.  2.  3. -1.  0.  1. -4.]]\n",
      "[ 1. -5. -1.  1. -0. -0. -0.]\n",
      "[[ 1.  3.  3.  1.  1.  0. -3.]\n",
      " [ 0.  2.  3. -1.  0.  1. -4.]]\n",
      "[ 1. -5. -1.  1.  0.  0.  0.]\n",
      "0\n",
      "0 0\n",
      "[[ 1.  3.  3.  1.  1.  0. -3.]\n",
      " [ 0.  2.  3. -1.  0.  1. -4.]]\n",
      "[ 0. -8. -4.  0. -1.  0.  3.]\n",
      "complete\n",
      "Result:  -3.0\n",
      "not equal. expected: 3, got: -3.0\n"
     ]
    }
   ],
   "source": [
    "task_6 = Task(\n",
    "    [-1, 5, 1, -1], TaskType.MIN,\n",
    "    [\n",
    "        Inequality([1, 3, 3, 1], Signs.LESS, 3),\n",
    "        Inequality([0, 2, 3, -1], Signs.LESS, 4),\n",
    "    ]\n",
    ")\n",
    "\n",
    "result_6 = solve(\n",
    "    task_6,\n",
    "    [0, 0, 0, 0, 1, 1],\n",
    "    [0, 0, 0, 0, 1, 1]\n",
    ")\n",
    "\n",
    "check(result_6, 3)\n"
   ],
   "metadata": {
    "collapsed": false,
    "pycharm": {
     "name": "#%%\n"
    }
   }
  },
  {
   "cell_type": "code",
   "execution_count": 182,
   "outputs": [
    {
     "name": "stdout",
     "output_type": "stream",
     "text": [
      "3\n",
      "(3, 6)\n",
      "[[  3.   1.   1.   1.  -2. -10.]\n",
      " [  6.   1.   2.   3.  -4. -20.]\n",
      " [ 10.   1.   3.   6.  -7. -30.]]\n",
      "[ 1.  1. -1.  1. -2. -0.]\n",
      "[[  1.   0.   1.   0.   0. -10.]\n",
      " [  0.  -1.   0.   1.   0.   0.]\n",
      " [ -1.  -1.  -0.  -0.   1.  -0.]]\n",
      "[  0.   0.   0.   0.   0. -10.]\n",
      "complete\n",
      "Result:  10.0\n",
      "not equal. expected: -10, got: 10.0\n"
     ]
    }
   ],
   "source": [
    "task_7 = Task(\n",
    "    [-1, -1, 1, -1, 2], TaskType.MIN,\n",
    "    [\n",
    "        Inequality([3, 1, 1, 1, -2], Signs.EQUAL, 10),\n",
    "        Inequality([6, 1, 2, 3, -4], Signs.EQUAL, 20),\n",
    "        Inequality([10, 1, 3, 6, -7], Signs.EQUAL, 30)\n",
    "    ]\n",
    ")\n",
    "\n",
    "result_7 = solve(\n",
    "    task_7,\n",
    "    [0, 0, 1, 2, 1],\n",
    "    [0, 0, 1, 1, 1]\n",
    ")\n",
    "\n",
    "check(result_7, -10)\n"
   ],
   "metadata": {
    "collapsed": false,
    "pycharm": {
     "name": "#%%\n"
    }
   }
  },
  {
   "cell_type": "code",
   "execution_count": 183,
   "metadata": {
    "pycharm": {
     "name": "#%%\n"
    }
   },
   "outputs": [],
   "source": [
    "# import sympy as sy\n",
    "# a = np.array([sy.Rational(1), sy.Rational(2), sy.Rational(3)], dtype=sy.Rational)\n",
    "# b = a / 17 / 19 * 17\n",
    "# print(b)\n",
    "# print(sy.Rational('6/5') + 1)"
   ]
  }
 ],
 "metadata": {
  "kernelspec": {
   "display_name": "Python 3",
   "language": "python",
   "name": "python3"
  },
  "language_info": {
   "codemirror_mode": {
    "name": "ipython",
    "version": 3
   },
   "file_extension": ".py",
   "mimetype": "text/x-python",
   "name": "python",
   "nbconvert_exporter": "python",
   "pygments_lexer": "ipython3",
   "version": "3.8.5"
  }
 },
 "nbformat": 4,
 "nbformat_minor": 1
}